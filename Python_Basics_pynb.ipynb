{
  "nbformat": 4,
  "nbformat_minor": 0,
  "metadata": {
    "colab": {
      "provenance": []
    },
    "kernelspec": {
      "name": "python3",
      "display_name": "Python 3"
    },
    "language_info": {
      "name": "python"
    }
  },
  "cells": [
    {
      "cell_type": "markdown",
      "source": [
        "# Program to accept input from the user & print it back to the user"
      ],
      "metadata": {
        "id": "qr91TYRte3UT"
      }
    },
    {
      "cell_type": "code",
      "execution_count": null,
      "metadata": {
        "colab": {
          "base_uri": "https://localhost:8080/"
        },
        "id": "sJLkYEAwezuW",
        "outputId": "fd7bbede-db09-47e1-fa82-521a37958156"
      },
      "outputs": [
        {
          "output_type": "stream",
          "name": "stdout",
          "text": [
            " Enter your name : nmd\n",
            " Enter your age : 22\n",
            " Enter your place : tvm\n",
            "Your name,age,and place is  \n",
            "nmd\n",
            "22\n",
            "tvm\n"
          ]
        }
      ],
      "source": [
        "name = input( \" Enter your name : \")\n",
        "age = input( \" Enter your age : \")\n",
        "place = input( \" Enter your place : \")\n",
        "print(\"Your name,age,and place is  \", name,age,place,sep='\\n')"
      ]
    },
    {
      "cell_type": "markdown",
      "source": [
        "# Program to accept name of a user and print its formatted name"
      ],
      "metadata": {
        "id": "fBPls92We174"
      }
    },
    {
      "cell_type": "code",
      "source": [
        "name=input(\"Hey enter your name\").strip().title()\n",
        "first, mid, last= name.split(' ')\n",
        "print(f\"Hello,  {name}\")"
      ],
      "metadata": {
        "colab": {
          "base_uri": "https://localhost:8080/"
        },
        "id": "By7CK7TQvW-b",
        "outputId": "a3827f1a-928a-4710-efaf-5c6dd804475c"
      },
      "execution_count": null,
      "outputs": [
        {
          "output_type": "stream",
          "name": "stdout",
          "text": [
            "Hey enter your name   NIVEDA M DAS\n",
            "Hello,  Niveda M Das\n"
          ]
        }
      ]
    },
    {
      "cell_type": "markdown",
      "source": [
        "# Program to round floating point numbers"
      ],
      "metadata": {
        "id": "zAstwN4HiKfB"
      }
    },
    {
      "cell_type": "code",
      "source": [
        "x=float(input(\"What is x  \"))\n",
        "y=float(input(\"What is y \"))\n",
        "z=round(x/y)\n",
        "print(z)"
      ],
      "metadata": {
        "id": "szCADRpCvlZm",
        "colab": {
          "base_uri": "https://localhost:8080/"
        },
        "outputId": "291d348b-fac7-4c1d-cdb8-d696b6b2ff79"
      },
      "execution_count": null,
      "outputs": [
        {
          "output_type": "stream",
          "name": "stdout",
          "text": [
            "What is x  6\n",
            "What is y 5\n",
            "1\n"
          ]
        }
      ]
    },
    {
      "cell_type": "code",
      "source": [
        "x=float(input(\"What is x  \"))\n",
        "y=float(input(\"What is y \"))\n",
        "z=(x/y)\n",
        "print(f\"{z:.2f}\")\n"
      ],
      "metadata": {
        "colab": {
          "base_uri": "https://localhost:8080/"
        },
        "id": "vhGU5Kafipn7",
        "outputId": "f8cc3754-bff6-4983-86f2-21ac56f6ca9b"
      },
      "execution_count": null,
      "outputs": [
        {
          "output_type": "stream",
          "name": "stdout",
          "text": [
            "What is x  23\n",
            "What is y 5\n",
            "4.60\n"
          ]
        }
      ]
    },
    {
      "cell_type": "markdown",
      "source": [
        "# Program to demonstrate a user defined function"
      ],
      "metadata": {
        "id": "nJDCmCI6lzsp"
      }
    },
    {
      "cell_type": "code",
      "source": [
        "def hello(to):\n",
        "  print(\"hello\", to)\n",
        "name=input(\"What is your name  \").title()\n",
        "hello(name)\n"
      ],
      "metadata": {
        "colab": {
          "base_uri": "https://localhost:8080/"
        },
        "id": "kTG9UofJlzCU",
        "outputId": "7bbc694a-eef0-4026-c7ab-51cba7ef84d1"
      },
      "execution_count": null,
      "outputs": [
        {
          "output_type": "stream",
          "name": "stdout",
          "text": [
            "What is your name  nmd\n",
            "hello Nmd\n"
          ]
        }
      ]
    },
    {
      "cell_type": "markdown",
      "source": [
        "# Program to print square of a number"
      ],
      "metadata": {
        "id": "8VQNHdYNrNq3"
      }
    },
    {
      "cell_type": "code",
      "source": [
        "def main():\n",
        "  x=int(input(\"Enter a number \"))\n",
        "  print(f\"Square of {x} is\", square(x))\n",
        "\n",
        "def square(n):\n",
        "  return n*n\n",
        "\n",
        "main()"
      ],
      "metadata": {
        "colab": {
          "base_uri": "https://localhost:8080/"
        },
        "id": "pwV8biE8j6Ls",
        "outputId": "656f0974-88bd-46d1-e4d0-946df2b9eb12"
      },
      "execution_count": null,
      "outputs": [
        {
          "output_type": "stream",
          "name": "stdout",
          "text": [
            "Enter a number 6\n",
            "Square of 6 is 36\n"
          ]
        }
      ]
    },
    {
      "cell_type": "code",
      "source": [
        "def main():\n",
        "  x=int(input(\"Enter a number \"))\n",
        "  print(f\"Square of {x} is\", square(x))\n",
        "\n",
        "def square(n):\n",
        "  return pow(n,2)\n",
        "\n",
        "main()"
      ],
      "metadata": {
        "colab": {
          "base_uri": "https://localhost:8080/"
        },
        "id": "yoiLcZ0ar7ja",
        "outputId": "bc91d578-ad23-43f8-cf46-8542349d4cfc"
      },
      "execution_count": null,
      "outputs": [
        {
          "output_type": "stream",
          "name": "stdout",
          "text": [
            "Enter a number 2\n",
            "Square of 2 is 4\n"
          ]
        }
      ]
    },
    {
      "cell_type": "code",
      "source": [
        "def main():\n",
        "  x=int(input(\"Enter a number \"))\n",
        "  print(f\"Square of {x} is\", square(x))\n",
        "\n",
        "def square(n):\n",
        "  return n**2\n",
        "\n",
        "main()"
      ],
      "metadata": {
        "colab": {
          "base_uri": "https://localhost:8080/"
        },
        "id": "ka2aQRBfswSo",
        "outputId": "0a2f3a35-21c4-4ce3-c9e4-3b306f6464b5"
      },
      "execution_count": null,
      "outputs": [
        {
          "output_type": "stream",
          "name": "stdout",
          "text": [
            "Enter a number 2\n",
            "Square of 2 is 4\n"
          ]
        }
      ]
    },
    {
      "cell_type": "code",
      "source": [
        "n=int(input(\"Enter a number\"))\n",
        "if n%2==1:\n",
        "    print(\"Weird\")\n",
        "if n%2==0 and n in range(2,6):\n",
        "    print(\"Not Weird\")\n",
        "elif n%2==0 and n in range(6,21):\n",
        "    print(\"Weird\")\n",
        "elif n%2==0 and n>20:\n",
        "    print(\"Not Weird\")"
      ],
      "metadata": {
        "id": "B04MVlnes0ro",
        "colab": {
          "base_uri": "https://localhost:8080/"
        },
        "outputId": "9ec25d14-a0d1-4582-f1cc-abaf3c2a60c7"
      },
      "execution_count": null,
      "outputs": [
        {
          "output_type": "stream",
          "name": "stdout",
          "text": [
            "Enter a number3\n",
            "weird\n"
          ]
        }
      ]
    },
    {
      "cell_type": "code",
      "source": [
        "def odd(n=3):\n",
        "  print(n)\n",
        "  if n%2==1:\n",
        "    print(\"Weird\")\n",
        "\n",
        "\n",
        "def even(n=24):\n",
        "  print(n)\n",
        "  if n%2==0 and n in range(2,6):\n",
        "    print(\"Not Weird\")\n",
        "  elif n%2==0 and n in range(6,21):\n",
        "    print(\"Weird\")\n",
        "  elif n%2==0 and n>20:\n",
        "    print(\"Not Weird\")\n",
        "odd()\n",
        "even()"
      ],
      "metadata": {
        "colab": {
          "base_uri": "https://localhost:8080/"
        },
        "id": "ht1f5Hv84Z7s",
        "outputId": "11286f69-2485-4b75-b9c1-66e624d05266"
      },
      "execution_count": null,
      "outputs": [
        {
          "output_type": "stream",
          "name": "stdout",
          "text": [
            "3\n",
            "Weird\n",
            "24\n",
            "Not Weird\n"
          ]
        }
      ]
    },
    {
      "cell_type": "code",
      "source": [
        "a=int(input())\n",
        "b=int(input())\n",
        "c=a+b\n",
        "d=a-b\n",
        "e=a*b\n",
        "print(c)\n",
        "print(d)\n",
        "print(e)"
      ],
      "metadata": {
        "id": "aMiPWdS-77jT",
        "colab": {
          "base_uri": "https://localhost:8080/"
        },
        "outputId": "4352c20a-e2ed-472a-cf89-12c2ce135f74"
      },
      "execution_count": null,
      "outputs": [
        {
          "output_type": "stream",
          "name": "stdout",
          "text": [
            "3\n",
            "7\n",
            "10\n",
            "-4\n",
            "21\n"
          ]
        }
      ]
    },
    {
      "cell_type": "markdown",
      "source": [
        "##  Program to check whether a number is Odd or Even using function"
      ],
      "metadata": {
        "id": "_ZXI6q_40WKg"
      }
    },
    {
      "cell_type": "code",
      "source": [
        "def main():\n",
        "  n=int(input())\n",
        "  if even(n):\n",
        "\n",
        "    print(\"Even\")\n",
        "  else:\n",
        "    print(\"Odd\")\n",
        "def even(x):\n",
        "    if x%2==0:\n",
        "      return True\n",
        "    else:\n",
        "      return False\n",
        "main()"
      ],
      "metadata": {
        "colab": {
          "base_uri": "https://localhost:8080/"
        },
        "id": "95TzDR__0VoX",
        "outputId": "0103273d-2b4a-4860-9271-c788e68cb3af"
      },
      "execution_count": 4,
      "outputs": [
        {
          "output_type": "stream",
          "name": "stdout",
          "text": [
            "4\n",
            "Even\n"
          ]
        }
      ]
    },
    {
      "cell_type": "markdown",
      "source": [
        "## Program to elegantly implement the above program"
      ],
      "metadata": {
        "id": "Uf4DXoAV2-PX"
      }
    },
    {
      "cell_type": "code",
      "source": [
        "def main():\n",
        "  n=int(input())\n",
        "  if even(n):\n",
        "    print(\"Even\")\n",
        "  else:\n",
        "    print(\"Odd\")\n",
        "def even(x):\n",
        "  return x%2==0\n",
        "main()"
      ],
      "metadata": {
        "id": "sBSBlTI_yRES",
        "colab": {
          "base_uri": "https://localhost:8080/"
        },
        "outputId": "1ef8efbf-0ef4-4e06-ee7e-ee65efd9cee6"
      },
      "execution_count": 6,
      "outputs": [
        {
          "output_type": "stream",
          "name": "stdout",
          "text": [
            "5\n",
            "Odd\n"
          ]
        }
      ]
    },
    {
      "cell_type": "markdown",
      "source": [
        "## Program to identify symbols"
      ],
      "metadata": {
        "id": "ZsylQO9Z5dLv"
      }
    },
    {
      "cell_type": "code",
      "source": [
        "symbol=input()\n",
        "match symbol:\n",
        "  case \"+\":\n",
        "    print(\"Addition operator\")\n",
        "  case \"-\":\n",
        "    print(\"Minus for subtraction\")\n",
        "  case \"*\":\n",
        "    print(\"Star for multiplication\")\n",
        "  case \"/\":\n",
        "    print(\"Division operator for finding Quotient\")\n",
        "  case _:\n",
        "    print(\"Unknown Symbol\")"
      ],
      "metadata": {
        "colab": {
          "base_uri": "https://localhost:8080/"
        },
        "id": "pVrqRiw13fjw",
        "outputId": "301db0ae-5a6a-4fb6-9e8c-269a9cb7d8e7"
      },
      "execution_count": 8,
      "outputs": [
        {
          "output_type": "stream",
          "name": "stdout",
          "text": [
            "+\n",
            "Addition operator\n"
          ]
        }
      ]
    },
    {
      "cell_type": "code",
      "source": [],
      "metadata": {
        "id": "soYoLCMp6So8"
      },
      "execution_count": null,
      "outputs": []
    }
  ]
}